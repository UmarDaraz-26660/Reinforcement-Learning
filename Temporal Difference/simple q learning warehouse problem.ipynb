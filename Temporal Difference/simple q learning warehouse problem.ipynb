{
 "cells": [
  {
   "attachments": {
    "image.png": {
     "image/png": "[encoded data removed]"
    }
   },
   "cell_type": "markdown",
   "metadata": {},
   "source": [
    "how do we solve this maze to get from e to g?\n",
    "\n",
    "![image.png](attachment:image.png)"
   ]
  },
  {
   "cell_type": "code",
   "execution_count": 1,
   "metadata": {},
   "outputs": [],
   "source": [
    "import numpy as np"
   ]
  },
  {
   "cell_type": "code",
   "execution_count": 2,
   "metadata": {},
   "outputs": [],
   "source": [
    "gamma = 0.99\n",
    "alpha = 0.05"
   ]
  },
  {
   "cell_type": "code",
   "execution_count": 3,
   "metadata": {},
   "outputs": [],
   "source": [
    "# Defining the states\n",
    "location_to_state = {'A': 0,\n",
    "'B': 1,\n",
    "'C': 2,\n",
    "'D': 3,\n",
    "'E': 4,\n",
    "'F': 5,\n",
    "'G': 6,\n",
    "'H': 7,\n",
    "'I': 8,\n",
    "'J': 9,\n",
    "'K': 10,\n",
    "'L': 11}"
   ]
  },
  {
   "cell_type": "code",
   "execution_count": 4,
   "metadata": {},
   "outputs": [],
   "source": [
    "# Defining the actions\n",
    "actions = [0,1,2,3,4,5,6,7,8,9,10,11]"
   ]
  },
  {
   "cell_type": "code",
   "execution_count": 5,
   "metadata": {},
   "outputs": [],
   "source": [
    "# Defining the rewards\n",
    "R = np.array([[0,1,0,0,0,0,0,0,0,0,0,0],\n",
    "[1,0,1,0,0,1,0,0,0,0,0,0],\n",
    "[0,1,0,0,0,0,1,0,0,0,0,0],\n",
    "[0,0,0,0,0,0,0,1,0,0,0,0],\n",
    "[0,0,0,0,0,0,0,0,1,0,0,0],\n",
    "[0,1,0,0,0,0,0,0,0,1,0,0],\n",
    "[0,0,1,0,0,0,1000,1,0,0,0,0],\n",
    "[0,0,0,1,0,0,1,0,0,0,0,1],\n",
    "[0,0,0,0,1,0,0,0,0,1,0,0],\n",
    "[0,0,0,0,0,1,0,0,1,0,1,0],\n",
    "[0,0,0,0,0,0,0,0,0,1,0,1],\n",
    "[0,0,0,0,0,0,0,1,0,0,1,0]])"
   ]
  },
  {
   "cell_type": "code",
   "execution_count": 6,
   "metadata": {},
   "outputs": [],
   "source": [
    "# Initializing the Q-values\n",
    "Q = np.array(np.zeros([12,12]))"
   ]
  },
  {
   "cell_type": "code",
   "execution_count": 7,
   "metadata": {},
   "outputs": [],
   "source": [
    "# Implementing the Q-Learning process\n",
    "for i in range(1000):\n",
    "    current_state = np.random.randint(0,12)\n",
    "    playable_actions = []\n",
    "    for j in range(12):\n",
    "        if R[current_state, j] > 0:\n",
    "            playable_actions.append(j)\n",
    "    next_state = np.random.choice(playable_actions)\n",
    "    TD = R[current_state, next_state] + gamma * Q[next_state, np.argmax(Q[next_state,])] - Q[current_state, next_state]\n",
    "        \n",
    "    Q[current_state, next_state] = Q[current_state, next_state] +  alpha * TD\n",
    "    "
   ]
  },
  {
   "cell_type": "code",
   "execution_count": 8,
   "metadata": {},
   "outputs": [
    {
     "name": "stdout",
     "output_type": "stream",
     "text": [
      "Q-values:\n",
      "[[   0  107    0    0    0    0    0    0    0    0    0    0]\n",
      " [  23    0  165    0    0   22    0    0    0    0    0    0]\n",
      " [   0   75    0    0    0    0  669    0    0    0    0    0]\n",
      " [   0    0    0    0    0    0    0  277    0    0    0    0]\n",
      " [   0    0    0    0    0    0    0    0    4    0    0    0]\n",
      " [   0   86    0    0    0    0    0    0    0    8    0    0]\n",
      " [   0    0  262    0    0    0 1193  127    0    0    0    0]\n",
      " [   0    0    0  102    0    0  471    0    0    0    0   57]\n",
      " [   0    0    0    0    2    0    0    0    0    6    0    0]\n",
      " [   0    0    0    0    0   20    0    0    3    0   13    0]\n",
      " [   0    0    0    0    0    0    0    0    0    6    0   77]\n",
      " [   0    0    0    0    0    0    0  198    0    0   27    0]]\n"
     ]
    }
   ],
   "source": [
    "print(\"Q-values:\")\n",
    "print(Q.astype(int))"
   ]
  },
  {
   "cell_type": "code",
   "execution_count": 9,
   "metadata": {},
   "outputs": [],
   "source": [
    "# Making a mapping from the states to the locations\n",
    "state_to_location = {state: location for location, state in location_to_state.items()}"
   ]
  },
  {
   "cell_type": "code",
   "execution_count": 10,
   "metadata": {},
   "outputs": [],
   "source": [
    "# Making the final function that will return the optimal route\n",
    "def route(starting_location, ending_location):\n",
    "    route = [starting_location]\n",
    "    next_location = starting_location\n",
    "    while (next_location != ending_location):\n",
    "        starting_state = location_to_state[starting_location]\n",
    "        next_state = np.argmax(Q[starting_state,])\n",
    "        next_location = state_to_location[next_state]\n",
    "        route.append(next_location)\n",
    "        starting_location = next_location\n",
    "    return route"
   ]
  },
  {
   "cell_type": "code",
   "execution_count": 11,
   "metadata": {},
   "outputs": [
    {
     "name": "stdout",
     "output_type": "stream",
     "text": [
      "Route:\n"
     ]
    },
    {
     "data": {
      "text/plain": [
       "['E', 'I', 'J', 'F', 'B', 'C', 'G']"
      ]
     },
     "execution_count": 11,
     "metadata": {},
     "output_type": "execute_result"
    }
   ],
   "source": [
    "# Printing the final route\n",
    "print('Route:')\n",
    "route('E', 'G')"
   ]
  },
  {
   "cell_type": "code",
   "execution_count": 12,
   "metadata": {},
   "outputs": [
    {
     "name": "stdout",
     "output_type": "stream",
     "text": [
      "Route:\n"
     ]
    },
    {
     "data": {
      "text/plain": [
       "['D', 'H', 'G']"
      ]
     },
     "execution_count": 12,
     "metadata": {},
     "output_type": "execute_result"
    }
   ],
   "source": [
    "# Printing the final route\n",
    "print('Route:')\n",
    "route('D', 'G')"
   ]
  },
  {
   "cell_type": "code",
   "execution_count": 13,
   "metadata": {},
   "outputs": [
    {
     "name": "stdout",
     "output_type": "stream",
     "text": [
      "Route:\n"
     ]
    },
    {
     "data": {
      "text/plain": [
       "['K', 'L', 'H', 'G']"
      ]
     },
     "execution_count": 13,
     "metadata": {},
     "output_type": "execute_result"
    }
   ],
   "source": [
    "# Printing the final route\n",
    "print('Route:')\n",
    "route('K', 'G')"
   ]
  },
  {
   "cell_type": "markdown",
   "metadata": {},
   "source": [
    "# technically\n",
    "\n",
    "the above is more dynamic programming as we have a ton of information regarding the environment here to iterate thru\n",
    "\n",
    "this also only gets us to g reliably\n",
    "\n",
    "how do we solve any route we want to take given a start and stop point given?\n",
    "\n",
    "we need to define the reward matrix without specifying 1000 for g which represents a terminal/absorbing state"
   ]
  },
  {
   "cell_type": "code",
   "execution_count": 14,
   "metadata": {},
   "outputs": [],
   "source": [
    "# Defining the rewards\n",
    "R = np.array([[0,1,0,0,0,0,0,0,0,0,0,0],\n",
    "[1,0,1,0,0,1,0,0,0,0,0,0],\n",
    "[0,1,0,0,0,0,1,0,0,0,0,0],\n",
    "[0,0,0,0,0,0,0,1,0,0,0,0],\n",
    "[0,0,0,0,0,0,0,0,1,0,0,0],\n",
    "[0,1,0,0,0,0,0,0,0,1,0,0],\n",
    "[0,0,1,0,0,0,1,1,0,0,0,0],\n",
    "[0,0,0,1,0,0,1,0,0,0,0,1],\n",
    "[0,0,0,0,1,0,0,0,0,1,0,0],\n",
    "[0,0,0,0,0,1,0,0,1,0,1,0],\n",
    "[0,0,0,0,0,0,0,0,0,1,0,1],\n",
    "[0,0,0,0,0,0,0,1,0,0,1,0]])"
   ]
  },
  {
   "cell_type": "code",
   "execution_count": 15,
   "metadata": {},
   "outputs": [],
   "source": [
    "# Making the final function that will return the optimal route\n",
    "def route(starting_location, ending_location, R):\n",
    "    ending_state = location_to_state[ending_location]\n",
    "    R[ending_state, ending_state] = 1000\n",
    "    Q = np.array(np.zeros([12,12]))\n",
    "    for i in range(1000):\n",
    "        current_state = np.random.randint(0,12)\n",
    "        playable_actions = []\n",
    "        for j in range(12):\n",
    "            if R[current_state, j] > 0:\n",
    "                playable_actions.append(j)\n",
    "        next_state = np.random.choice(playable_actions)\n",
    "        TD = R[current_state, next_state] + gamma * Q[next_state, np.argmax(Q[next_state,])] - Q[current_state, next_state]\n",
    "\n",
    "        Q[current_state, next_state] = Q[current_state, next_state] +  alpha * TD\n",
    "        \n",
    "    route = [starting_location]\n",
    "    next_location = starting_location\n",
    "    while (next_location != ending_location):\n",
    "        starting_state = location_to_state[starting_location]\n",
    "        next_state = np.argmax(Q[starting_state,])\n",
    "        next_location = state_to_location[next_state]\n",
    "        route.append(next_location)\n",
    "        starting_location = next_location\n",
    "    return route    "
   ]
  },
  {
   "cell_type": "code",
   "execution_count": 16,
   "metadata": {},
   "outputs": [
    {
     "data": {
      "text/plain": [
       "['E', 'I', 'J', 'K', 'L', 'H', 'D']"
      ]
     },
     "execution_count": 16,
     "metadata": {},
     "output_type": "execute_result"
    }
   ],
   "source": [
    "route('E','D',R.copy())"
   ]
  },
  {
   "cell_type": "code",
   "execution_count": 17,
   "metadata": {},
   "outputs": [
    {
     "data": {
      "text/plain": [
       "['G', 'H', 'D']"
      ]
     },
     "execution_count": 17,
     "metadata": {},
     "output_type": "execute_result"
    }
   ],
   "source": [
    "route('G','D',R.copy())"
   ]
  },
  {
   "cell_type": "markdown",
   "metadata": {},
   "source": [
    "What about multiple locations?\n",
    "\n",
    "reuse the above and iterate thru the pairs"
   ]
  },
  {
   "cell_type": "code",
   "execution_count": 27,
   "metadata": {},
   "outputs": [],
   "source": [
    "def multi_stops(stop_list, R):\n",
    "    list_len = len(stop_list)\n",
    "    if list_len == 1:\n",
    "        return stop_list\n",
    "    elif list_len == 2:\n",
    "        return route(stop_list[0], stop_list[1], R)\n",
    "    else:\n",
    "        return_list = []\n",
    "        for i in range(list_len - 1):\n",
    "            if i == 0:\n",
    "                return_list += route(stop_list[0+i], stop_list[1+i], R.copy())\n",
    "            else:\n",
    "                return_list += route(stop_list[0+i], stop_list[1+i], R.copy())[1:]\n",
    "                \n",
    "    return return_list"
   ]
  },
  {
   "cell_type": "code",
   "execution_count": 28,
   "metadata": {},
   "outputs": [
    {
     "data": {
      "text/plain": [
       "['E', 'I', 'J', 'K', 'L', 'H', 'G', 'H', 'D']"
      ]
     },
     "execution_count": 28,
     "metadata": {},
     "output_type": "execute_result"
    }
   ],
   "source": [
    "multi_stops(['E','G','D'], R.copy())"
   ]
  },
  {
   "cell_type": "code",
   "execution_count": 29,
   "metadata": {},
   "outputs": [
    {
     "data": {
      "text/plain": [
       "['E', 'I', 'J', 'F', 'B', 'F', 'J', 'K', 'L', 'H', 'G', 'H', 'D']"
      ]
     },
     "execution_count": 29,
     "metadata": {},
     "output_type": "execute_result"
    }
   ],
   "source": [
    "multi_stops(['E','B','K','G','D'], R.copy())"
   ]
  },
  {
   "cell_type": "code",
   "execution_count": null,
   "metadata": {},
   "outputs": [],
   "source": []
  }
 ],
 "metadata": {
  "kernelspec": {
   "display_name": "Python 3",
   "language": "python",
   "name": "python3"
  },
  "language_info": {
   "codemirror_mode": {
    "name": "ipython",
    "version": 3
   },
   "file_extension": ".py",
   "mimetype": "text/x-python",
   "name": "python",
   "nbconvert_exporter": "python",
   "pygments_lexer": "ipython3",
   "version": "3.8.10"
  }
 },
 "nbformat": 4,
 "nbformat_minor": 2
}
