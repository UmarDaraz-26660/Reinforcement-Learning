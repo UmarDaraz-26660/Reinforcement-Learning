{
 "cells": [
  {
   "cell_type": "markdown",
   "metadata": {},
   "source": [
    "# k arm bandit \n",
    "\n",
    "this notebook is an attmpt to create a k armed bandit"
   ]
  },
  {
   "cell_type": "code",
   "execution_count": 1,
   "metadata": {},
   "outputs": [],
   "source": [
    "import numpy as np\n",
    "import pandas as pd\n",
    "import matplotlib.pyplot as plt\n"
   ]
  },
  {
   "cell_type": "code",
   "execution_count": 2,
   "metadata": {},
   "outputs": [],
   "source": [
    "#set variables\n",
    "k = 10\n",
    "reward_range_min = 5\n",
    "reward_range_max = 10\n",
    "std_min = 1\n",
    "std_max = 8\n",
    "samples_per_distrib = 10000\n",
    "\n"
   ]
  },
  {
   "cell_type": "code",
   "execution_count": 3,
   "metadata": {},
   "outputs": [],
   "source": [
    "#create arms and rewards\n",
    "reward_stack = []\n",
    "\n",
    "for i in range(0,k):\n",
    "    #select mean for this arm\n",
    "    current_mean = np.random.choice(a = range(reward_range_min,reward_range_max+1), size = 1)\n",
    "    #to debug\n",
    "    #print(current_mean)\n",
    "    \n",
    "    #select std for this arm\n",
    "    current_std = np.random.choice(a = range(std_min,std_max+1), size = 1)\n",
    "    #to debug\n",
    "    #print(current_std)\n",
    "    \n",
    "    #draw samples for this arm\n",
    "    current_arm = np.random.normal(loc = current_mean, scale = current_std, size = samples_per_distrib)\n",
    "    #to debug\n",
    "    #print(current_arm)\n",
    "    \n",
    "    #append to reward stack list \n",
    "    reward_stack.append(current_arm)\n",
    "    #to debug\n",
    "    #print(reward_stack)\n",
    "    "
   ]
  },
  {
   "cell_type": "code",
   "execution_count": 4,
   "metadata": {},
   "outputs": [
    {
     "data": {
      "text/plain": [
       "{'bodies': [<matplotlib.collections.PolyCollection at 0x11362a9aac0>,\n",
       "  <matplotlib.collections.PolyCollection at 0x11362a9ad60>,\n",
       "  <matplotlib.collections.PolyCollection at 0x11362ab9070>,\n",
       "  <matplotlib.collections.PolyCollection at 0x11362ab9340>,\n",
       "  <matplotlib.collections.PolyCollection at 0x11362a9a430>,\n",
       "  <matplotlib.collections.PolyCollection at 0x11362a98df0>,\n",
       "  <matplotlib.collections.PolyCollection at 0x11362ab9610>,\n",
       "  <matplotlib.collections.PolyCollection at 0x11362ab98e0>,\n",
       "  <matplotlib.collections.PolyCollection at 0x11362ab9bb0>,\n",
       "  <matplotlib.collections.PolyCollection at 0x11362ab9e80>],\n",
       " 'cmeans': <matplotlib.collections.LineCollection at 0x11362a9a8b0>,\n",
       " 'cmaxes': <matplotlib.collections.LineCollection at 0x11362ac74c0>,\n",
       " 'cmins': <matplotlib.collections.LineCollection at 0x11362ac7940>,\n",
       " 'cbars': <matplotlib.collections.LineCollection at 0x11362ac7dc0>,\n",
       " 'cmedians': <matplotlib.collections.LineCollection at 0x11362ad4280>}"
      ]
     },
     "execution_count": 4,
     "metadata": {},
     "output_type": "execute_result"
    },
    {
     "data": {
      "image/png": "[encoded data removed]",
      "text/plain": [
       "<Figure size 864x576 with 1 Axes>"
      ]
     },
     "metadata": {
      "needs_background": "light"
     },
     "output_type": "display_data"
    }
   ],
   "source": [
    "#alter plot size so it looks decent\n",
    "#makes viz bigger\n",
    "import matplotlib.pyplot as plt\n",
    "BIG = 16\n",
    "MED = 14\n",
    "SMALL = 10\n",
    "plt.rcParams.update({'font.size': BIG})\n",
    "plt.rcParams.update({'axes.labelsize': BIG})\n",
    "plt.rcParams.update({'xtick.labelsize': MED})\n",
    "plt.rcParams.update({'ytick.labelsize': MED})\n",
    "plt.rcParams.update({'figure.figsize':[12, 8]}) #this is important as it makes the visualizations much easier to read and clip/export!(w,h)\n",
    "\n",
    "#plot reward stack and arms\n",
    "plt.xticks(ticks=list(range(1,k+1)), labels=list(range(1,k+1)))\n",
    "\n",
    "plt.xlabel(\"bandit arm\")\n",
    "\n",
    "plt.ylabel(\"values\")\n",
    "\n",
    "plt.violinplot(reward_stack, list(range(0,k)), points=20, widths=0.3,\n",
    "                     showmeans=True, showextrema=True, showmedians=True)\n",
    "\n"
   ]
  },
  {
   "cell_type": "code",
   "execution_count": 5,
   "metadata": {},
   "outputs": [
    {
     "data": {
      "text/plain": [
       "[0, 1, 2, 3, 4, 5, 6, 7, 8, 9]"
      ]
     },
     "execution_count": 5,
     "metadata": {},
     "output_type": "execute_result"
    }
   ],
   "source": [
    "list(range(0,k))"
   ]
  },
  {
   "cell_type": "code",
   "execution_count": 6,
   "metadata": {},
   "outputs": [
    {
     "name": "stdout",
     "output_type": "stream",
     "text": [
      "total reward from random selection: 75518.77546591994\n",
      "0    0.0972\n",
      "1    0.1008\n",
      "2    0.0981\n",
      "3    0.0999\n",
      "4    0.1043\n",
      "5    0.0972\n",
      "6    0.0984\n",
      "7    0.1048\n",
      "8    0.1059\n",
      "9    0.0934\n",
      "dtype: float64\n"
     ]
    }
   ],
   "source": [
    "#random selection without any value assesments\n",
    "\n",
    "#set base vars\n",
    "n = 10000\n",
    "\n",
    "#set objects needed\n",
    "arms_selected = []\n",
    "total_reward = 0\n",
    "\n",
    "for i in range(0,n):\n",
    "    \n",
    "    #randomly pick an arm\n",
    "    current_arm = np.random.choice(range(0,k))\n",
    "    \n",
    "    #append choice to list tracking what was done\n",
    "    arms_selected.append(current_arm)\n",
    "    \n",
    "    #randomly pick a reward from the distrib\n",
    "    current_reward = np.random.choice(reward_stack[current_arm])\n",
    "    \n",
    "    #add current reward to total rewards\n",
    "    total_reward = total_reward + current_reward\n",
    "    \n",
    "\n",
    "print(\"total reward from random selection:\",total_reward)\n",
    "print(pd.Series(arms_selected).value_counts(normalize = True).sort_index())"
   ]
  },
  {
   "cell_type": "code",
   "execution_count": 7,
   "metadata": {},
   "outputs": [],
   "source": [
    "#epsilon greedy solution\n",
    "\n",
    "#set base vars\n",
    "n = 10000\n",
    "\n",
    "#set objects needed\n",
    "arms_selected = []\n",
    "reward_list = [[] for i in list(range(0,k))]\n",
    "total_reward = 0\n",
    "\n",
    "#some helper functions\n",
    "\n",
    "#pull the arm selected\n",
    "def pull_arm(current_arm):\n",
    "    \n",
    "    current_reward = np.random.choice(reward_stack[current_arm])\n",
    "    \n",
    "    return current_reward\n",
    "\n",
    "#get max for each arm (argmax a Q t (a))\n",
    "#used for greedy approach\n",
    "def arm_max(reward_list):\n",
    "    \n",
    "    #get mean for each arms known rewards\n",
    "    maxs = np.array([np.mean(i) for i in reward_list])\n",
    "    \n",
    "    #pick max known rewards\n",
    "    maxx = maxs.argsort()\n",
    "    \n",
    "    return maxx[-1]\n",
    "\n",
    "#when epsilon is used for exploration\n",
    "#select arm that has been selected the least number of times, random (not selecting the max arm)\n",
    "def arm_explore(reward_list, arms_selected):\n",
    "         \n",
    "    #get the number of times each arm has been selected\n",
    "    arm_breakdown = np.array(pd.Series(arms_selected).value_counts(normalize = False).sort_index())\n",
    "    \n",
    "    #check if first two are equal\n",
    "    sorted_arm_indices = arm_breakdown.argsort()\n",
    "    \n",
    "    #debug\n",
    "    #print(arm_breakdown)\n",
    "    #print(sorted_arm_indices)\n",
    "    #print(\"0:\",arm_breakdown[sorted_arm_indices[0]])\n",
    "    #print(\"1:\",arm_breakdown[sorted_arm_indices[1]])\n",
    "    \n",
    "    #if first do not have equal counts then return lowest count\n",
    "    if arm_breakdown[sorted_arm_indices[0]] != arm_breakdown[sorted_arm_indices[1]]:\n",
    "        return sorted_arm_indices[0]\n",
    "            \n",
    "    #take random sample\n",
    "    max_arm = arm_max(reward_list)\n",
    "    \n",
    "    rando_list = [i for i in range(0,k)]\n",
    "    \n",
    "    rando_list.remove(max_arm)\n",
    "    \n",
    "    selected_element = np.random.choice(rando_list)\n",
    "    \n",
    "    return selected_element\n",
    "\n",
    "#use epsilon to make explouit or explore decision:\n",
    "def exploit_or_explore():\n",
    "    \n",
    "    exp = np.random.binomial(1, epsilon, 1)\n",
    "    \n",
    "    return exp\n",
    "\n",
    "#play one turn\n",
    "def play_one(reward_list, arms_selected, total_reward):\n",
    "    \n",
    "    if epsilon > 0:\n",
    "    \n",
    "        #get explore/exploit signal\n",
    "        exp = exploit_or_explore()\n",
    "        \n",
    "    else:\n",
    "        exp = 0\n",
    "    \n",
    "    #explore\n",
    "    if exp:\n",
    "        current_arm = arm_explore(reward_list, arms_selected)\n",
    "    \n",
    "    #exploit\n",
    "    else:\n",
    "        current_arm = arm_max(reward_list)\n",
    "        \n",
    "    #pull the arm\n",
    "    current_reward = pull_arm(current_arm)\n",
    "    \n",
    "    #append reward to reward_list\n",
    "    reward_list[current_arm].append(current_reward)\n",
    "    \n",
    "    #append arms selected to tracking\n",
    "    arms_selected.append(current_arm)\n",
    "    \n",
    "    #update total reward\n",
    "    total_reward = total_reward + current_reward\n",
    "    \n",
    "    return reward_list, arms_selected, total_reward\n",
    "\n",
    "#play thru\n",
    "def play_the_bandit(reward_list, arms_selected, total_reward, n):\n",
    "\n",
    "    \n",
    "    #for first k rounds pull each arm available once to get started    \n",
    "    for i in range(0,k):\n",
    "        #debug\n",
    "        #print(i)\n",
    "        \n",
    "        current_reward = pull_arm(i)\n",
    "        \n",
    "        #append reward to reward_list\n",
    "        reward_list[i].append(current_reward)\n",
    "    \n",
    "        #append arms selected to tracking\n",
    "        arms_selected.append(i)\n",
    "    \n",
    "        #update total reward\n",
    "        total_reward = total_reward + current_reward\n",
    "     \n",
    "    #play thru remaining rounds\n",
    "    for i in range(10,n):\n",
    "        #debug\n",
    "        #print(i)\n",
    "    \n",
    "        #start the process using epsilon greedy\n",
    "        reward_list, arms_selected, total_reward = play_one(reward_list, arms_selected, total_reward)  \n",
    "        \n",
    "    return reward_list, arms_selected, total_reward"
   ]
  },
  {
   "cell_type": "code",
   "execution_count": 11,
   "metadata": {},
   "outputs": [
    {
     "name": "stdout",
     "output_type": "stream",
     "text": [
      "total reward from epsilon greedy: 97808.54178823855\n",
      "0    0.0121\n",
      "1    0.8906\n",
      "2    0.0119\n",
      "3    0.0120\n",
      "4    0.0125\n",
      "5    0.0123\n",
      "6    0.0119\n",
      "7    0.0120\n",
      "8    0.0126\n",
      "9    0.0121\n",
      "dtype: float64\n",
      "0     121\n",
      "1    8906\n",
      "2     119\n",
      "3     120\n",
      "4     125\n",
      "5     123\n",
      "6     119\n",
      "7     120\n",
      "8     126\n",
      "9     121\n",
      "dtype: int64\n"
     ]
    }
   ],
   "source": [
    "#set base vars\n",
    "n = 10000\n",
    "epsilon = 0.1\n",
    "\n",
    "#set objects needed\n",
    "arms_selected = []\n",
    "reward_list = [[] for i in list(range(0,k))]\n",
    "total_reward = 0\n",
    "\n",
    "reward_list, arms_selected, total_reward = play_the_bandit(reward_list, arms_selected, total_reward, n)\n",
    "\n",
    "print(\"total reward from epsilon greedy:\",total_reward)\n",
    "print(pd.Series(arms_selected).value_counts(normalize = True).sort_index())\n",
    "print(pd.Series(arms_selected).value_counts(normalize = False).sort_index())"
   ]
  },
  {
   "cell_type": "code",
   "execution_count": 12,
   "metadata": {},
   "outputs": [
    {
     "name": "stdout",
     "output_type": "stream",
     "text": [
      "total reward from epsilon greedy: 79070.45142386682\n",
      "0    0.9969\n",
      "1    0.0004\n",
      "2    0.0001\n",
      "3    0.0002\n",
      "4    0.0001\n",
      "5    0.0006\n",
      "6    0.0001\n",
      "7    0.0001\n",
      "8    0.0001\n",
      "9    0.0014\n",
      "dtype: float64\n",
      "0    9969\n",
      "1       4\n",
      "2       1\n",
      "3       2\n",
      "4       1\n",
      "5       6\n",
      "6       1\n",
      "7       1\n",
      "8       1\n",
      "9      14\n",
      "dtype: int64\n"
     ]
    }
   ],
   "source": [
    "#w/o exploration\n",
    "\n",
    "#set base vars\n",
    "n = 10000\n",
    "epsilon = 0\n",
    "\n",
    "#set objects needed\n",
    "arms_selected = []\n",
    "reward_list = [[] for i in list(range(0,k))]\n",
    "total_reward = 0\n",
    "\n",
    "reward_list, arms_selected, total_reward = play_the_bandit(reward_list, arms_selected, total_reward, n)\n",
    "\n",
    "print(\"total reward from epsilon greedy:\",total_reward)\n",
    "print(pd.Series(arms_selected).value_counts(normalize = True).sort_index())\n",
    "print(pd.Series(arms_selected).value_counts(normalize = False).sort_index())"
   ]
  },
  {
   "cell_type": "code",
   "execution_count": 13,
   "metadata": {},
   "outputs": [
    {
     "name": "stdout",
     "output_type": "stream",
     "text": [
      "total reward from epsilon greedy: 101052.17836796171\n",
      "0    0.0017\n",
      "1    0.9866\n",
      "2    0.0016\n",
      "3    0.0008\n",
      "4    0.0030\n",
      "5    0.0016\n",
      "6    0.0009\n",
      "7    0.0010\n",
      "8    0.0008\n",
      "9    0.0020\n",
      "dtype: float64\n",
      "0      17\n",
      "1    9866\n",
      "2      16\n",
      "3       8\n",
      "4      30\n",
      "5      16\n",
      "6       9\n",
      "7      10\n",
      "8       8\n",
      "9      20\n",
      "dtype: int64\n"
     ]
    }
   ],
   "source": [
    "#w/ less exploration\n",
    "\n",
    "#set base vars\n",
    "n = 10000\n",
    "epsilon = 0.01\n",
    "\n",
    "#set objects needed\n",
    "arms_selected = []\n",
    "reward_list = [[] for i in list(range(0,k))]\n",
    "total_reward = 0\n",
    "\n",
    "reward_list, arms_selected, total_reward = play_the_bandit(reward_list, arms_selected, total_reward, n)\n",
    "\n",
    "print(\"total reward from epsilon greedy:\",total_reward)\n",
    "print(pd.Series(arms_selected).value_counts(normalize = True).sort_index())\n",
    "print(pd.Series(arms_selected).value_counts(normalize = False).sort_index())"
   ]
  },
  {
   "cell_type": "code",
   "execution_count": null,
   "metadata": {},
   "outputs": [],
   "source": []
  }
 ],
 "metadata": {
  "kernelspec": {
   "display_name": "Python 3",
   "language": "python",
   "name": "python3"
  },
  "language_info": {
   "codemirror_mode": {
    "name": "ipython",
    "version": 3
   },
   "file_extension": ".py",
   "mimetype": "text/x-python",
   "name": "python",
   "nbconvert_exporter": "python",
   "pygments_lexer": "ipython3",
   "version": "3.8.3"
  }
 },
 "nbformat": 4,
 "nbformat_minor": 4
}
