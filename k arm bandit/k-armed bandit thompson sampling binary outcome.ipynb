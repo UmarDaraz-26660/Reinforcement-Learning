{
 "cells": [
  {
   "cell_type": "code",
   "execution_count": 1,
   "metadata": {},
   "outputs": [],
   "source": [
    "import matplotlib.pyplot as plt\n",
    "import numpy as np"
   ]
  },
  {
   "cell_type": "code",
   "execution_count": 2,
   "metadata": {},
   "outputs": [],
   "source": [
    "#probs\n",
    "arm_1 = .50\n",
    "arm_2 = .25\n",
    "arm_3 = .80\n",
    "\n",
    "arms = [ arm_1, arm_2, arm_3]\n",
    "\n"
   ]
  },
  {
   "cell_type": "code",
   "execution_count": 6,
   "metadata": {},
   "outputs": [
    {
     "data": {
      "text/plain": [
       "Text(0.5, 1.0, 'total rewards:797')"
      ]
     },
     "execution_count": 6,
     "metadata": {},
     "output_type": "execute_result"
    },
    {
     "data": {
      "image/png": "[encoded data removed]",
      "text/plain": [
       "<Figure size 432x288 with 1 Axes>"
      ]
     },
     "metadata": {
      "needs_background": "light"
     },
     "output_type": "display_data"
    }
   ],
   "source": [
    "#bayesian agent with thompson sampling\n",
    "num_levers = 3\n",
    "alphas = [1 for i in range(3)]\n",
    "betas = [1 for i in range(3)]\n",
    "total_reward = 0\n",
    "actions = []\n",
    "\n",
    "n = 1000\n",
    "\n",
    "#pull the arm selected\n",
    "def pull_arm(current_arm):\n",
    "    \n",
    "    base_prob = arms[current_arm]\n",
    "    \n",
    "    current_reward = np.random.choice([0, 1], p=[1-base_prob, base_prob])\n",
    "    \n",
    "    return current_reward   \n",
    "\n",
    "def theta_samples(alphas, betas, num_levers):\n",
    "    return [np.random.beta(alphas[i], betas[i]) for i in range(num_levers)]\n",
    "\n",
    "def choose_action(thetas):\n",
    "    return np.argmax(thetas)\n",
    "\n",
    "def update(alphas, betas, reward, action):\n",
    "    alphas[action] += reward\n",
    "    betas[action] += 1 - reward\n",
    "    return alphas, betas\n",
    "    \n",
    "for i in range(n):\n",
    "    thetas = theta_samples(alphas, betas, num_levers)\n",
    "    action = choose_action(thetas)\n",
    "    reward = pull_arm(action) \n",
    "    actions.append(action)\n",
    "    alphas, betas = update(alphas, betas, reward, action)\n",
    "    total_reward += reward\n",
    "    \n",
    "plt.hist(actions)\n",
    "title = \"total rewards:\" + str(total_reward)\n",
    "plt.title(title)"
   ]
  },
  {
   "cell_type": "code",
   "execution_count": null,
   "metadata": {},
   "outputs": [],
   "source": []
  }
 ],
 "metadata": {
  "kernelspec": {
   "display_name": "Python 3",
   "language": "python",
   "name": "python3"
  },
  "language_info": {
   "codemirror_mode": {
    "name": "ipython",
    "version": 3
   },
   "file_extension": ".py",
   "mimetype": "text/x-python",
   "name": "python",
   "nbconvert_exporter": "python",
   "pygments_lexer": "ipython3",
   "version": "3.8.6"
  }
 },
 "nbformat": 4,
 "nbformat_minor": 4
}
